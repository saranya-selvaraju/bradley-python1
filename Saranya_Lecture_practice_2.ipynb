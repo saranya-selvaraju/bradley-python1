{
  "nbformat": 4,
  "nbformat_minor": 0,
  "metadata": {
    "colab": {
      "provenance": [],
      "authorship_tag": "ABX9TyODxVmbpzybQmCnlboYKyRf",
      "include_colab_link": true
    },
    "kernelspec": {
      "name": "python3",
      "display_name": "Python 3"
    },
    "language_info": {
      "name": "python"
    }
  },
  "cells": [
    {
      "cell_type": "markdown",
      "metadata": {
        "id": "view-in-github",
        "colab_type": "text"
      },
      "source": [
        "<a href=\"https://colab.research.google.com/github/saranya-selvaraju/bradley-python1/blob/main/Saranya_Lecture_practice_2.ipynb\" target=\"_parent\"><img src=\"https://colab.research.google.com/assets/colab-badge.svg\" alt=\"Open In Colab\"/></a>"
      ]
    },
    {
      "cell_type": "code",
      "execution_count": 6,
      "metadata": {
        "colab": {
          "base_uri": "https://localhost:8080/"
        },
        "id": "LzmhY6tQu_gc",
        "outputId": "3ecdf848-6410-4e09-c9d1-30fba3d57c09"
      },
      "outputs": [
        {
          "output_type": "stream",
          "name": "stdout",
          "text": [
            "1 Saranya\n",
            "2 Saranya\n",
            "3 Saranya\n",
            "4 Saranya\n",
            "5 Saranya\n",
            "6 Saranya\n",
            "7 Saranya\n",
            "8 Saranya\n",
            "9 Saranya\n",
            "10 Saranya\n",
            "11 Saranya\n",
            "12 Saranya\n",
            "13 Saranya\n",
            "14 Saranya\n",
            "15 Saranya\n",
            "16 Saranya\n",
            "17 Saranya\n",
            "18 Saranya\n",
            "19 Saranya\n",
            "20 Saranya\n",
            "21 Saranya\n",
            "22 Saranya\n",
            "23 Saranya\n",
            "24 Saranya\n",
            "25 Saranya\n",
            "26 Saranya\n",
            "27 Saranya\n",
            "28 Saranya\n",
            "29 Saranya\n",
            "30 Saranya\n",
            "31 Saranya\n",
            "32 Saranya\n",
            "33 Saranya\n",
            "34 Saranya\n",
            "35 Saranya\n",
            "36 Saranya\n",
            "37 Saranya\n",
            "38 Saranya\n",
            "39 Saranya\n",
            "40 Saranya\n",
            "41 Saranya\n",
            "42 Saranya\n",
            "43 Saranya\n",
            "44 Saranya\n",
            "45 Saranya\n",
            "46 Saranya\n",
            "47 Saranya\n",
            "48 Saranya\n",
            "49 Saranya\n",
            "50 Saranya\n",
            "51 Saranya\n",
            "52 Saranya\n",
            "53 Saranya\n",
            "54 Saranya\n",
            "55 Saranya\n",
            "56 Saranya\n",
            "57 Saranya\n",
            "58 Saranya\n",
            "59 Saranya\n",
            "60 Saranya\n",
            "61 Saranya\n",
            "62 Saranya\n",
            "63 Saranya\n",
            "64 Saranya\n",
            "65 Saranya\n",
            "66 Saranya\n",
            "67 Saranya\n",
            "68 Saranya\n",
            "69 Saranya\n",
            "70 Saranya\n",
            "71 Saranya\n",
            "72 Saranya\n",
            "73 Saranya\n",
            "74 Saranya\n",
            "75 Saranya\n",
            "76 Saranya\n",
            "77 Saranya\n",
            "78 Saranya\n",
            "79 Saranya\n",
            "80 Saranya\n",
            "81 Saranya\n",
            "82 Saranya\n",
            "83 Saranya\n",
            "84 Saranya\n",
            "85 Saranya\n",
            "86 Saranya\n",
            "87 Saranya\n",
            "88 Saranya\n",
            "89 Saranya\n",
            "90 Saranya\n",
            "91 Saranya\n",
            "92 Saranya\n",
            "93 Saranya\n",
            "94 Saranya\n",
            "95 Saranya\n",
            "96 Saranya\n",
            "97 Saranya\n",
            "98 Saranya\n",
            "99 Saranya\n",
            "100 Saranya\n"
          ]
        }
      ],
      "source": [
        "for i in range(100):\n",
        "  print(i+1, 'Saranya')"
      ]
    },
    {
      "cell_type": "code",
      "source": [
        "for i in range(1, 21):\n",
        "  square = i * i\n",
        "  print(i , square, sep= ' --- ')\n"
      ],
      "metadata": {
        "colab": {
          "base_uri": "https://localhost:8080/"
        },
        "id": "aNKLII4IvbcZ",
        "outputId": "6e5bb9a1-a71b-4cc3-e510-9bb6bb269df0"
      },
      "execution_count": 2,
      "outputs": [
        {
          "output_type": "stream",
          "name": "stdout",
          "text": [
            "1 --- 1\n",
            "2 --- 4\n",
            "3 --- 9\n",
            "4 --- 16\n",
            "5 --- 25\n",
            "6 --- 36\n",
            "7 --- 49\n",
            "8 --- 64\n",
            "9 --- 81\n",
            "10 --- 100\n",
            "11 --- 121\n",
            "12 --- 144\n",
            "13 --- 169\n",
            "14 --- 196\n",
            "15 --- 225\n",
            "16 --- 256\n",
            "17 --- 289\n",
            "18 --- 324\n",
            "19 --- 361\n",
            "20 --- 400\n"
          ]
        }
      ]
    },
    {
      "cell_type": "code",
      "source": [
        "for i in range(8, 90, 3):\n",
        "  print(i)"
      ],
      "metadata": {
        "colab": {
          "base_uri": "https://localhost:8080/"
        },
        "id": "U2RS8n9hvkJE",
        "outputId": "925fb1b1-1239-4a79-ec85-0c468583ae39"
      },
      "execution_count": 3,
      "outputs": [
        {
          "output_type": "stream",
          "name": "stdout",
          "text": [
            "8\n",
            "11\n",
            "14\n",
            "17\n",
            "20\n",
            "23\n",
            "26\n",
            "29\n",
            "32\n",
            "35\n",
            "38\n",
            "41\n",
            "44\n",
            "47\n",
            "50\n",
            "53\n",
            "56\n",
            "59\n",
            "62\n",
            "65\n",
            "68\n",
            "71\n",
            "74\n",
            "77\n",
            "80\n",
            "83\n",
            "86\n",
            "89\n"
          ]
        }
      ]
    },
    {
      "cell_type": "code",
      "source": [
        "height = eval(input('Enter the height: '))\n",
        "width = eval(input('Enter the width: '))\n",
        "\n",
        "print(\"*\" * width)\n",
        "\n",
        "for h in range(height-2):\n",
        "  print(\"*\",\" \" * (width - 2),\"*\" , sep= '')\n",
        "\n",
        "print(\"*\" * width)\n"
      ],
      "metadata": {
        "colab": {
          "base_uri": "https://localhost:8080/"
        },
        "id": "B4g9WGUavsa3",
        "outputId": "65c2aebf-9eea-4a1f-83af-c4747fb1ead2"
      },
      "execution_count": 8,
      "outputs": [
        {
          "output_type": "stream",
          "name": "stdout",
          "text": [
            "Enter the height: 4\n",
            "Enter the width: 17\n",
            "*****************\n",
            "*               *\n",
            "*               *\n",
            "*****************\n"
          ]
        }
      ]
    },
    {
      "cell_type": "code",
      "source": [
        "height = eval(input('Enter the value : '))\n",
        "for i in range(height-1,-1,-1):\n",
        "  print('*' * (i + 1))\n"
      ],
      "metadata": {
        "colab": {
          "base_uri": "https://localhost:8080/"
        },
        "id": "vJHRL9Vcv_fv",
        "outputId": "ccc05700-4658-40ee-d02e-18a8396b4204"
      },
      "execution_count": 5,
      "outputs": [
        {
          "output_type": "stream",
          "name": "stdout",
          "text": [
            "Enter the value : 4\n",
            "****\n",
            "***\n",
            "**\n",
            "*\n"
          ]
        }
      ]
    }
  ]
}