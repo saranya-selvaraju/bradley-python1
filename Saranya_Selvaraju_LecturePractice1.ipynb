{
  "nbformat": 4,
  "nbformat_minor": 0,
  "metadata": {
    "colab": {
      "provenance": [],
      "authorship_tag": "ABX9TyOWoV47FG6IA9i+5SFyRZAA",
      "include_colab_link": true
    },
    "kernelspec": {
      "name": "python3",
      "display_name": "Python 3"
    },
    "language_info": {
      "name": "python"
    }
  },
  "cells": [
    {
      "cell_type": "markdown",
      "metadata": {
        "id": "view-in-github",
        "colab_type": "text"
      },
      "source": [
        "<a href=\"https://colab.research.google.com/github/saranya-selvaraju/bradley-python1/blob/main/Saranya_Selvaraju_LecturePractice1.ipynb\" target=\"_parent\"><img src=\"https://colab.research.google.com/assets/colab-badge.svg\" alt=\"Open In Colab\"/></a>"
      ]
    },
    {
      "cell_type": "code",
      "execution_count": 1,
      "metadata": {
        "colab": {
          "base_uri": "https://localhost:8080/"
        },
        "id": "phj81GspDmgS",
        "outputId": "9865038a-9965-42b8-e933-06776a44bcdc"
      },
      "outputs": [
        {
          "output_type": "stream",
          "name": "stdout",
          "text": [
            "*****************\n",
            "*****************\n",
            "*****************\n",
            "*****************\n"
          ]
        }
      ],
      "source": [
        "print (\"*\" * 17)\n",
        "print (\"*\" * 17)\n",
        "print (\"*\" * 17)\n",
        "print (\"*\" * 17)\n"
      ]
    },
    {
      "cell_type": "code",
      "source": [
        "num = eval(input('Enter a number: '))\n",
        "print('The square of ', num, ' is ', num *num, \".\", sep = '')"
      ],
      "metadata": {
        "colab": {
          "base_uri": "https://localhost:8080/"
        },
        "id": "zIj3zkt9Dvke",
        "outputId": "49db441d-4ada-4152-e248-03ca0a822f4d"
      },
      "execution_count": 9,
      "outputs": [
        {
          "output_type": "stream",
          "name": "stdout",
          "text": [
            "Enter a number: 5\n",
            "The square of 5 is 25.\n"
          ]
        }
      ]
    },
    {
      "cell_type": "code",
      "source": [
        "num1 = eval(input(\"Enter the first number: \"))\n",
        "num2 = eval(input(\"Enter the second number: \"))\n",
        "num3 = eval(input(\"Enter the third number: \"))\n",
        "total = num1+num2+num3\n",
        "average = (num1+num2+num3)/3\n",
        "print('The total of the three number is ', total, '.', sep='')\n",
        "print('The average of the three number is ', average,'.', sep ='')\n"
      ],
      "metadata": {
        "colab": {
          "base_uri": "https://localhost:8080/"
        },
        "id": "wmNO04GXD5EG",
        "outputId": "47e06a67-16ee-4d60-cd52-71437403f39a"
      },
      "execution_count": 3,
      "outputs": [
        {
          "output_type": "stream",
          "name": "stdout",
          "text": [
            "Enter the first number: 2\n",
            "Enter the second number: 4\n",
            "Enter the third number: 8\n",
            "The total of the three number is 14.\n",
            "The average of the three number is 4.666666666666667.\n"
          ]
        }
      ]
    }
  ]
}