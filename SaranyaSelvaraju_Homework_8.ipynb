{
  "nbformat": 4,
  "nbformat_minor": 0,
  "metadata": {
    "colab": {
      "provenance": [],
      "authorship_tag": "ABX9TyMf6qAmhf3JQVHZ8h7/NQwS",
      "include_colab_link": true
    },
    "kernelspec": {
      "name": "python3",
      "display_name": "Python 3"
    },
    "language_info": {
      "name": "python"
    }
  },
  "cells": [
    {
      "cell_type": "markdown",
      "metadata": {
        "id": "view-in-github",
        "colab_type": "text"
      },
      "source": [
        "<a href=\"https://colab.research.google.com/github/saranya-selvaraju/bradley-python1/blob/main/SaranyaSelvaraju_Homework_8.ipynb\" target=\"_parent\"><img src=\"https://colab.research.google.com/assets/colab-badge.svg\" alt=\"Open In Colab\"/></a>"
      ]
    },
    {
      "cell_type": "code",
      "execution_count": 9,
      "metadata": {
        "colab": {
          "base_uri": "https://localhost:8080/"
        },
        "id": "AmqMY7dAMP-k",
        "outputId": "892b23fa-709a-434b-d223-3cedf5477d29"
      },
      "outputs": [
        {
          "output_type": "stream",
          "name": "stdout",
          "text": [
            "Enter the input: !Saranya123\n",
            "First and Last characters removed : Saranya12\n",
            "All caps: !SARANYA123\n",
            "a replaced by e: !Serenye123\n",
            "letter replaced by space:  !       123\n"
          ]
        }
      ],
      "source": [
        "# Write a program that asks the user to enter a string. The program should then print the\n",
        "# following:\n",
        "# a. The string with its first and last characters removed.\n",
        "# b. The string in all caps.\n",
        "# c. The string with every a replaced with an e.\n",
        "# d. The string with every letter replaced by a space.\n",
        "\n",
        "value = input(\"Enter the input: \")\n",
        "print(f\"First and Last characters removed : { value[1:-1]}\")\n",
        "print(f\"All caps: {value.upper()}\")\n",
        "print(f\"a replaced by e: {value.replace('a', 'e')}\")\n",
        "\n",
        "output = ''.join([' ' if v.isalpha() else v for v in value])\n",
        "print(f\"letter replaced by space: \", output)"
      ]
    },
    {
      "cell_type": "code",
      "source": [
        "# Write a program that asks the user to enter a string. The program should create a new string\n",
        "# called new_string from the user’s string such that the second character is changed to an\n",
        "# asterisk and three exclamation points are attached to the end of the string. Finally, print\n",
        "# new_string. Typical output is shown below:\n",
        "\n",
        "value = input(\"Enter the input: \")\n",
        "\n",
        "new_string  = value[:1] + '*' + value[1:] + '!!!'\n",
        "\n",
        "print(new_string)"
      ],
      "metadata": {
        "colab": {
          "base_uri": "https://localhost:8080/"
        },
        "id": "4buJHJhxOJyp",
        "outputId": "bf209e82-f3ef-4316-fce4-54915855f240"
      },
      "execution_count": 11,
      "outputs": [
        {
          "output_type": "stream",
          "name": "stdout",
          "text": [
            "Enter the input: Saranya\n",
            "S*aranya!!!\n"
          ]
        }
      ]
    },
    {
      "cell_type": "code",
      "source": [
        "# Write a program that asks the user to enter a string s and then converts s to lowercase, removes\n",
        "# all the periods and commas from s, and prints the resulting string.\n",
        "\n",
        "value = input(\"Enter the input: \")\n",
        "\n",
        "output = value.lower()\n",
        "output = output.replace('.', '')\n",
        "output = output.replace(',', '')\n",
        "\n",
        "print(output)"
      ],
      "metadata": {
        "colab": {
          "base_uri": "https://localhost:8080/"
        },
        "id": "OLkeYeq2PCLc",
        "outputId": "3ed09d17-f9d0-4fcc-d442-48b47c761ed2"
      },
      "execution_count": 15,
      "outputs": [
        {
          "output_type": "stream",
          "name": "stdout",
          "text": [
            "Enter the input: Saranya.,\n",
            "saranya\n"
          ]
        }
      ]
    },
    {
      "cell_type": "code",
      "source": [
        "# Write a program that asks the user to enter a word and determines whether the word is a\n",
        "# palindrome or not. A palindrome is a word that reads the same backwards as forwards.\n",
        "\n",
        "value = input(\"Enter the input: \")\n",
        "is_palindrome = True\n",
        "\n",
        "for v in range(int(len(value)/2)):\n",
        "  if value[v] != value[~v]:\n",
        "    is_palindrome = False\n",
        "    break\n",
        "\n",
        "if is_palindrome:\n",
        "  print(f\"{value} is palindrome\")\n",
        "else:\n",
        "  print(f\"{value} is NOT palindrome\")\n",
        "\n"
      ],
      "metadata": {
        "colab": {
          "base_uri": "https://localhost:8080/"
        },
        "id": "0CrJdc64Plvv",
        "outputId": "94590295-00ce-4722-e024-6d070a9079f8"
      },
      "execution_count": 25,
      "outputs": [
        {
          "output_type": "stream",
          "name": "stdout",
          "text": [
            "Enter the input: malayalam\n",
            "malayalam is palindrome\n"
          ]
        }
      ]
    },
    {
      "cell_type": "code",
      "source": [
        "# Ask the user for a number and then print the following, where the pattern ends at the number\n",
        "# that the user enters\n",
        "\n",
        "value = eval(input(\"Enter the input: \"))\n",
        "\n",
        "for i in range(value):\n",
        "  print(\" \" * i + str(i+1))\n"
      ],
      "metadata": {
        "colab": {
          "base_uri": "https://localhost:8080/"
        },
        "id": "0xfIe-6AQ2Ga",
        "outputId": "1a4446ac-4b62-4eeb-8b63-c14e10da9177"
      },
      "execution_count": 28,
      "outputs": [
        {
          "output_type": "stream",
          "name": "stdout",
          "text": [
            "Enter the input: 5\n",
            "1\n",
            " 2\n",
            "  3\n",
            "   4\n",
            "    5\n"
          ]
        }
      ]
    },
    {
      "cell_type": "code",
      "source": [
        "# Write a program that asks the user to enter a string, then prints out each letter of the string\n",
        "# doubled and on a separate line. For instance, if the user entered HEY, the output would be.\n",
        "\n",
        "value = input(\"Enter the input: \")\n",
        "for v in value:\n",
        "  print(v*2)\n"
      ],
      "metadata": {
        "colab": {
          "base_uri": "https://localhost:8080/"
        },
        "id": "EeP6U6ERRkaj",
        "outputId": "faf7d962-daca-48ec-bafe-f3e113524223"
      },
      "execution_count": 29,
      "outputs": [
        {
          "output_type": "stream",
          "name": "stdout",
          "text": [
            "Enter the input: HEY\n",
            "HH\n",
            "EE\n",
            "YY\n"
          ]
        }
      ]
    },
    {
      "cell_type": "code",
      "source": [
        "# Write a program that asks the user to enter a word and then capitalizes every other letter of that\n",
        "# word. So, if the user enters rhinoceros, the program should print rHiNoCeRoS.\n",
        "\n",
        "value = input(\"Enter the input: \")\n",
        "output = ''\n",
        "captilazied = False\n",
        "for v in value:\n",
        "  if captilazied:\n",
        "    output += v.upper()\n",
        "  else:\n",
        "    output += v\n",
        "  captilazied = not captilazied\n",
        "\n",
        "print(output)\n",
        ""
      ],
      "metadata": {
        "colab": {
          "base_uri": "https://localhost:8080/"
        },
        "id": "pP-6e-VzR8Jq",
        "outputId": "cfdd0ba0-e1d0-4bb8-d090-34a8983c59d9"
      },
      "execution_count": 30,
      "outputs": [
        {
          "output_type": "stream",
          "name": "stdout",
          "text": [
            "Enter the input: rhinoceros\n",
            "rHiNoCeRoS\n"
          ]
        }
      ]
    },
    {
      "cell_type": "code",
      "source": [
        "# Write a program that asks the user to enter their name in lowercase and then capitalizes the\n",
        "# first letter of each word of their name\n",
        "\n",
        "value = input(\"Enter the name: \")\n",
        "output = ''\n",
        "change_case = True\n",
        "\n",
        "for v in value:\n",
        "  if change_case:\n",
        "    output += v.upper()\n",
        "    change_case = False\n",
        "  else:\n",
        "    output += v\n",
        "\n",
        "  if v == ' ':\n",
        "    change_case = True\n",
        "\n",
        "print(output)\n",
        "\n",
        ""
      ],
      "metadata": {
        "colab": {
          "base_uri": "https://localhost:8080/"
        },
        "id": "9GdrLcsOSmRa",
        "outputId": "9f7d6727-079e-4c53-de42-0b9e19a54552"
      },
      "execution_count": 31,
      "outputs": [
        {
          "output_type": "stream",
          "name": "stdout",
          "text": [
            "Enter the name: saranya selvaraju\n",
            "Saranya Selvaraju\n"
          ]
        }
      ]
    },
    {
      "cell_type": "code",
      "source": [
        "# Companies often try to personalize their offers to make them more attractive. One simple way to\n",
        "# do this is just to insert the person’s name at various places in the offer. Of course, companies\n",
        "# don’t manually type in every person’s name; everything is computer-generated. Write a program\n",
        "# that asks the user for their name and then generates an offer like the one below. For simplicity’s\n",
        "# sake, you may assume that the person’s first and last names are one word each.\n",
        "\n",
        "first_name = input(\"Enter the first name: \")\n",
        "last_name = input(\"Enter the last name: \")\n",
        "\n",
        "output = f\"\"\"Dear {first_name} {last_name},\n",
        "I am pleased to offer you our new Platinum Plus\n",
        "Rewards card at a special introductory APR of\n",
        "47.99%. {first_name}, an offer like this does not come\n",
        "along every day, so I urge you to call now toll-free\n",
        "at 1-800-314-1592. We cannot offer such a low rate\n",
        "for long, {first_name}, so call right away.\n",
        "\"\"\"\n",
        "print(output)\n"
      ],
      "metadata": {
        "colab": {
          "base_uri": "https://localhost:8080/"
        },
        "id": "9-lPvb7OTKiR",
        "outputId": "aad5224a-f832-48a1-9324-6c9f2c118f7b"
      },
      "execution_count": 32,
      "outputs": [
        {
          "output_type": "stream",
          "name": "stdout",
          "text": [
            "Enter the first name: Saranya\n",
            "Enter the last name: Selvaraju\n",
            "Dear Saranya Selvaraju,\n",
            "I am pleased to offer you our new Platinum Plus\n",
            "Rewards card at a special introductory APR of\n",
            "47.99%. Saranya, an offer like this does not come\n",
            "along every day, so I urge you to call now toll-free\n",
            "at 1-800-314-1592. We cannot offer such a low rate\n",
            "for long, Saranya, so call right away.\n",
            "\n"
          ]
        }
      ]
    },
    {
      "cell_type": "code",
      "source": [
        "# Write a program that asks the user to enter a word that contains the letter a. The program should\n",
        "# then print the following two lines: On the first line should be the part of the string up to and\n",
        "# including the first a, and on the second line should be the rest of the string. Sample output is\n",
        "# shown below:\n",
        "\n",
        "value = input(\"Enter the input: \")\n",
        "idx = value.find('a')\n",
        "\n",
        "if idx > -1 and idx + 1 < len(value):\n",
        "  print(value[:idx+1])\n",
        "  print(value[idx+1:])\n",
        "elif idx > -1:\n",
        "  print(value[:idx+1])\n"
      ],
      "metadata": {
        "colab": {
          "base_uri": "https://localhost:8080/"
        },
        "id": "d9FLT94CT5B-",
        "outputId": "74e1a9d6-a994-45bb-b7dd-2d6378a98e9e"
      },
      "execution_count": 37,
      "outputs": [
        {
          "output_type": "stream",
          "name": "stdout",
          "text": [
            "Enter the input: buffalo\n",
            "buffa\n",
            "lo\n"
          ]
        }
      ]
    }
  ]
}