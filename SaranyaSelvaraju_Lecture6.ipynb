{
  "nbformat": 4,
  "nbformat_minor": 0,
  "metadata": {
    "colab": {
      "provenance": [],
      "authorship_tag": "ABX9TyND8HevuvbihFaph/bNqY0f",
      "include_colab_link": true
    },
    "kernelspec": {
      "name": "python3",
      "display_name": "Python 3"
    },
    "language_info": {
      "name": "python"
    }
  },
  "cells": [
    {
      "cell_type": "markdown",
      "metadata": {
        "id": "view-in-github",
        "colab_type": "text"
      },
      "source": [
        "<a href=\"https://colab.research.google.com/github/saranya-selvaraju/bradley-python1/blob/main/SaranyaSelvaraju_Lecture6.ipynb\" target=\"_parent\"><img src=\"https://colab.research.google.com/assets/colab-badge.svg\" alt=\"Open In Colab\"/></a>"
      ]
    },
    {
      "cell_type": "code",
      "execution_count": null,
      "metadata": {
        "colab": {
          "base_uri": "https://localhost:8080/"
        },
        "id": "r3c_tsHOrkhq",
        "outputId": "288a3d40-9a38-4ec1-bdfe-955a23e6ef82"
      },
      "outputs": [
        {
          "output_type": "stream",
          "name": "stdout",
          "text": [
            "Enter the length: 2.54\n",
            "2.54 centimeters is 1.0 inches\n"
          ]
        }
      ],
      "source": [
        "# Write a program that asks the user to enter a length in centimeters.\n",
        "# If the user enters a negative length, the program should tell the user that the entry is invalid.\n",
        "# Otherwise, the program should convert the length to inches and print out the result.\n",
        "# There are 2.54 centimeters in an inch.\n",
        "\n",
        "cms = eval(input('Enter the length: '))\n",
        "if cms < 0:\n",
        "  print(f'Entered value {cms} is negative and hence invalid.')\n",
        "else:\n",
        "  print(f'{cms} centimeters is {cms / 2.54} inches')"
      ]
    },
    {
      "cell_type": "code",
      "source": [
        "# This exercise is about the well-known Monty Hall problem.\n",
        "# In the problem, you are a contestant on a game show.\n",
        "# The host, Monty Hall, shows you three doors.\n",
        "# Behind one of those doors is a prize, and behind the other two doors are goats.\n",
        "# You pick a door. Monty Hall, who knows behind which door the prize lies, then opens up one of the doors that doesn’t contain the prize.\n",
        "# There are now two doors left, and Monty gives you the opportunity to change your choice.\n",
        "# Should you keep the same door, change doors, or does it not matter?\n",
        "# a. Write a program that simulates playing this game 10000 times and calculates what percentage of the time you would win if you switch and what percentage of the time you would win by not switching.\n",
        "# b. Try the above but with four doors instead of three. There is still only one prize, and Monty still opens up one door and then gives you the opportunity to switch.\n",
        "import random\n",
        "import math\n",
        "\n",
        "times = 10000\n",
        "switch_count = non_switch_count = fail_count = 0\n",
        "\n",
        "doors = [1, 2, 3]\n",
        "for i in range(times):\n",
        "  prize_door = random.choice(doors)\n",
        "  user_choice = random.choice(doors)\n",
        "\n",
        "  if user_choice == prize_door:\n",
        "    non_switch_count += 1\n",
        "  else:\n",
        "    switch_count += 1\n",
        "\n",
        "print(f\"Three doors playing with {times} times\")\n",
        "print(f\"Winning by not switching: {non_switch_count} times, Winning by switching: {switch_count} times\")\n",
        "print(f\"Winning by not switching: {round((non_switch_count / times) * 100, 2)} %, Winning by switching: {round((switch_count / times) * 100, 2)} %\")\n",
        "print(\"\\n\")\n",
        "\n",
        "times = 10000\n",
        "switch_count = non_switch_count = fail_count = 0\n",
        "\n",
        "doors = [1, 2, 3, 4]\n",
        "for i in range(times):\n",
        "  prize_door = random.choice(doors)\n",
        "  user_choice = random.choice(doors)\n",
        "  open_door = [door for door in doors if door != prize_door and door != user_choice]\n",
        "  user_switch_choice = random.choice([door for door in doors if door != user_choice and door != open_door])\n",
        "\n",
        "  if user_choice == prize_door:\n",
        "    non_switch_count += 1\n",
        "  elif user_switch_choice == prize_door:\n",
        "    switch_count += 1\n",
        "\n",
        "print(f\"Four doors playing with {times} times\")\n",
        "print(f\"Winning by not switching: {non_switch_count} times, Winning by switching: {switch_count} times\")\n",
        "print(f\"Winning by not switching: {round((non_switch_count / times) * 100, 2)} %, Winning by switching: {round((switch_count / times) * 100, 2)} %\")\n",
        "\n",
        "\n",
        "\n"
      ],
      "metadata": {
        "colab": {
          "base_uri": "https://localhost:8080/"
        },
        "id": "woN-EkBxsZiv",
        "outputId": "7c92894c-1ede-4b9e-d73c-dd249a5a41bf"
      },
      "execution_count": 17,
      "outputs": [
        {
          "output_type": "stream",
          "name": "stdout",
          "text": [
            "Three doors playing with 10000 times\n",
            "Winning by not switching: 3375 times, Winning by switching: 6625 times\n",
            "Winning by not switching: 33.75 %, Winning by switching: 66.25 %\n",
            "\n",
            "\n",
            "Four doors playing with 10000 times\n",
            "Winning by not switching: 2464 times, Winning by switching: 2513 times\n",
            "Winning by not switching: 24.64 %, Winning by switching: 25.13 %\n"
          ]
        }
      ]
    }
  ]
}