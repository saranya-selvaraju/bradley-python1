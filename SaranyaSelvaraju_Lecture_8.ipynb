{
  "nbformat": 4,
  "nbformat_minor": 0,
  "metadata": {
    "colab": {
      "provenance": [],
      "authorship_tag": "ABX9TyNYyZSznlZ7h4PUKmexRQSB",
      "include_colab_link": true
    },
    "kernelspec": {
      "name": "python3",
      "display_name": "Python 3"
    },
    "language_info": {
      "name": "python"
    }
  },
  "cells": [
    {
      "cell_type": "markdown",
      "metadata": {
        "id": "view-in-github",
        "colab_type": "text"
      },
      "source": [
        "<a href=\"https://colab.research.google.com/github/saranya-selvaraju/bradley-python1/blob/main/SaranyaSelvaraju_Lecture_8.ipynb\" target=\"_parent\"><img src=\"https://colab.research.google.com/assets/colab-badge.svg\" alt=\"Open In Colab\"/></a>"
      ]
    },
    {
      "cell_type": "code",
      "execution_count": 4,
      "metadata": {
        "colab": {
          "base_uri": "https://localhost:8080/"
        },
        "id": "32p_9JjTFl8T",
        "outputId": "d7b15393-5e9a-4cda-b8a3-7df2f0d4c609"
      },
      "outputs": [
        {
          "output_type": "stream",
          "name": "stdout",
          "text": [
            "Begin\n",
            "\n",
            "\n",
            "\n",
            "\n",
            "\n",
            "\n",
            "\n",
            "\n",
            "\n",
            "\n",
            "End\n"
          ]
        }
      ],
      "source": [
        "# An easy way to print a blank line is print(). Print ten blank lines, using one print function\n",
        "print(\"Begin\")\n",
        "for _ in range(10):\n",
        "  print()\n",
        "print(\"End\")"
      ]
    },
    {
      "cell_type": "code",
      "source": [
        "# Write a program that asks the user for a string and prints out the location of each 'a' in the string\n",
        "\n",
        "value = input(\"Enter the input: \")\n",
        "pos = 0\n",
        "positions = []\n",
        "\n",
        "for v in value:\n",
        "  pos += 1\n",
        "  if v == 'a':\n",
        "    positions.append(pos)\n",
        "\n",
        "if len(positions) == 0:\n",
        "  print('Not Found')\n",
        "else:\n",
        "  print(positions)"
      ],
      "metadata": {
        "colab": {
          "base_uri": "https://localhost:8080/"
        },
        "id": "2qOmhT_SGX3G",
        "outputId": "1297e1af-8959-4e25-86eb-647e34afe409"
      },
      "execution_count": 8,
      "outputs": [
        {
          "output_type": "stream",
          "name": "stdout",
          "text": [
            "Enter the input: caravan\n",
            "[2, 4, 6]\n"
          ]
        }
      ]
    },
    {
      "cell_type": "code",
      "source": [
        "# Write a program that asks the user for a string and creates a new string that doubles each character of the\n",
        "# original string. For instance, if the user enters Hello, the output should be HHeelllloo\n",
        "\n",
        "value = input(\"Enter the input: \")\n",
        "\n",
        "output = \"\"\n",
        "for v in value:\n",
        "  output += v*2\n",
        "\n",
        "print(output)"
      ],
      "metadata": {
        "colab": {
          "base_uri": "https://localhost:8080/"
        },
        "id": "f6TXCJOWHtXZ",
        "outputId": "041030a2-52a5-4402-d9a3-5f1a711dab2f"
      },
      "execution_count": 10,
      "outputs": [
        {
          "output_type": "stream",
          "name": "stdout",
          "text": [
            "Enter the input: Hello\n",
            "HHeelllloo\n"
          ]
        }
      ]
    },
    {
      "cell_type": "code",
      "source": [
        "# Write a program that asks a user for their name and prints it in the following funny pattern:\n",
        "\n",
        "value = input(\"Enter the input: \")\n",
        "\n",
        "for i in range(len(value)):\n",
        "  print(value[:i+1], end = ' ')\n"
      ],
      "metadata": {
        "colab": {
          "base_uri": "https://localhost:8080/"
        },
        "id": "HIUtXrNQIEfK",
        "outputId": "5af2ae16-cf1c-4e17-b433-e5571839e4d6"
      },
      "execution_count": 13,
      "outputs": [
        {
          "output_type": "stream",
          "name": "stdout",
          "text": [
            "Enter the input: Hello\n",
            "H He Hel Hell Hello "
          ]
        }
      ]
    },
    {
      "cell_type": "code",
      "source": [
        "# Write a program that removes all capitalization and common punctuation from a string s.\n",
        "\n",
        "value = input(\"Enter the input: \")\n",
        "output = \"\"\n",
        "\n",
        "for v in value.lower():\n",
        "  if v.isalpha():\n",
        "    output += v\n",
        "\n",
        "print(output)\n"
      ],
      "metadata": {
        "colab": {
          "base_uri": "https://localhost:8080/"
        },
        "id": "I7iN2kDnIhLU",
        "outputId": "08c31c53-d5eb-49e4-cc0b-2a57d46cb807"
      },
      "execution_count": 14,
      "outputs": [
        {
          "output_type": "stream",
          "name": "stdout",
          "text": [
            "Enter the input: Hel*o\n",
            "helo\n"
          ]
        }
      ]
    },
    {
      "cell_type": "code",
      "source": [
        "# Write a program that, given a string that contains a decimal number, prints out the decimal part of the\n",
        "# number. For instance, if given 3.14159, the program should print out .14159\n",
        "\n",
        "value = input(\"Enter the decimal: \")\n",
        "output = \"\"\n",
        "\n",
        "idx = value.find('.')\n",
        "\n",
        "if idx > -1:\n",
        "  print(value[idx:])"
      ],
      "metadata": {
        "colab": {
          "base_uri": "https://localhost:8080/"
        },
        "id": "p9GNSxiFI7zf",
        "outputId": "d2b9f819-0fb5-48a6-d60d-16dc1cdfc05d"
      },
      "execution_count": 16,
      "outputs": [
        {
          "output_type": "stream",
          "name": "stdout",
          "text": [
            "Enter the decimal: 3.14159\n",
            ".14159\n"
          ]
        }
      ]
    },
    {
      "cell_type": "code",
      "source": [
        "# A simple and very old method of sending secret messages is the substitution cipher. Basically, each letter\n",
        "# of the alphabet gets replaced by another letter of the alphabet, say every a gets replaced with an x, and\n",
        "# every b gets replaced by a z, etc. Write a program to implement this.\n",
        "import string\n",
        "import random\n",
        "\n",
        "alphabet = string.ascii_lowercase\n",
        "key = \"\".join(random.sample(alphabet, len(alphabet)))\n",
        "\n",
        "output = \"\"\n",
        "\n",
        "value = input(\"Enter the input: \")\n",
        "for v in value:\n",
        "  if v.lower() in alphabet:\n",
        "    idx = alphabet.index(v.lower())\n",
        "    output += key[idx]\n",
        "  else:\n",
        "    output += v\n",
        "\n",
        "print(\"Encryption Key: \", key)\n",
        "print(\"Original Input: \", value)\n",
        "print(\"Encrypted value: \", output)"
      ],
      "metadata": {
        "colab": {
          "base_uri": "https://localhost:8080/"
        },
        "id": "nuTo6LxYJZdA",
        "outputId": "314afcb6-3e64-43bc-d7aa-1ae7e0943803"
      },
      "execution_count": 24,
      "outputs": [
        {
          "output_type": "stream",
          "name": "stdout",
          "text": [
            "Enter the input: Hello\n",
            "Encryption Key:  dgniuchkrvszowmljpafxqetyb\n",
            "Original Input:  Hello\n",
            "Encrypted value:  kuzzm\n"
          ]
        }
      ]
    }
  ]
}