{
  "nbformat": 4,
  "nbformat_minor": 0,
  "metadata": {
    "colab": {
      "provenance": [],
      "authorship_tag": "ABX9TyN0AsyJ5RSXx+T+7oVG5Nep",
      "include_colab_link": true
    },
    "kernelspec": {
      "name": "python3",
      "display_name": "Python 3"
    },
    "language_info": {
      "name": "python"
    }
  },
  "cells": [
    {
      "cell_type": "markdown",
      "metadata": {
        "id": "view-in-github",
        "colab_type": "text"
      },
      "source": [
        "<a href=\"https://colab.research.google.com/github/saranya-selvaraju/bradley-python1/blob/main/SaranyaSelvaraju_Homework7.ipynb\" target=\"_parent\"><img src=\"https://colab.research.google.com/assets/colab-badge.svg\" alt=\"Open In Colab\"/></a>"
      ]
    },
    {
      "cell_type": "code",
      "execution_count": 2,
      "metadata": {
        "colab": {
          "base_uri": "https://localhost:8080/"
        },
        "id": "61nKYTjM-i9-",
        "outputId": "359e604e-6f70-4767-9717-d490d1d9787d"
      },
      "outputs": [
        {
          "output_type": "stream",
          "name": "stdout",
          "text": [
            "Enter the stringHarshavardhan\n",
            "Length: 13\n",
            "Repetion: HarshavardhanHarshavardhanHarshavardhanHarshavardhanHarshavardhanHarshavardhanHarshavardhanHarshavardhanHarshavardhanHarshavardhan\n",
            "First Character: H\n",
            "First three characters: Har\n",
            "Last three characters: han\n",
            "Reverse: nahdravahsraH\n",
            "Seventh characters: v\n"
          ]
        }
      ],
      "source": [
        "# Write a program that asks the user to enter a string. The program should then print the\n",
        "# following:\n",
        "# a. The total number of characters in the string.\n",
        "# b. The string repeated 10 times.\n",
        "# c. The first character of the string (remember that string indices start at 0).\n",
        "# d. The first three characters of the string.\n",
        "# e. The last three characters of the string.\n",
        "# f. The string backwards.\n",
        "# g. The seventh character of the string if the string is long enough and a message otherwise.\n",
        "\n",
        "value = input(\"Enter the string \")\n",
        "\n",
        "print(f\"Length: {len(value)}\")\n",
        "print(f\"Repetion: { value * 10 }\")\n",
        "print(f\"First character: { value[0] }\")\n",
        "print(f\"First three characters: { value[:3]}\")\n",
        "print(f\"Last three characters: { value[-3:]}\")\n",
        "print(f\"Reverse: { value[::-1] }\")\n",
        "print(f\"Seventh character: { value[6] if len(value) >= 7 else 'N/A'}\")"
      ]
    },
    {
      "cell_type": "code",
      "source": [
        "# Write a program that asks the user to enter a word and prints out whether that word contains\n",
        "# any vowels\n",
        "\n",
        "value = input(\"Enter a word: \")\n",
        "has_vowels = False\n",
        "lower_value = value.lower()\n",
        "\n",
        "for v in lower_value:\n",
        "  if v in \"aeiou\":\n",
        "    has_vowels = True\n",
        "    print(f\"{value} contains vowels\")\n",
        "\n",
        "if not has_vowels:\n",
        "  print(f\"{value} does not contain vowels\")"
      ],
      "metadata": {
        "colab": {
          "base_uri": "https://localhost:8080/"
        },
        "id": "c9X2-CCYAph3",
        "outputId": "2386380a-d009-4ca2-df01-2e225fb7448b"
      },
      "execution_count": 8,
      "outputs": [
        {
          "output_type": "stream",
          "name": "stdout",
          "text": [
            "Enter a word: BAT\n",
            "BAT contains vowels\n"
          ]
        }
      ]
    }
  ]
}