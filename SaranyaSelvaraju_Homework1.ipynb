{
  "nbformat": 4,
  "nbformat_minor": 0,
  "metadata": {
    "colab": {
      "provenance": [],
      "authorship_tag": "ABX9TyPd2R2VNA0Is3HzYElELbQX",
      "include_colab_link": true
    },
    "kernelspec": {
      "name": "python3",
      "display_name": "Python 3"
    },
    "language_info": {
      "name": "python"
    }
  },
  "cells": [
    {
      "cell_type": "markdown",
      "metadata": {
        "id": "view-in-github",
        "colab_type": "text"
      },
      "source": [
        "<a href=\"https://colab.research.google.com/github/saranya-selvaraju/bradley-python1/blob/main/SaranyaSelvaraju_Homework1.ipynb\" target=\"_parent\"><img src=\"https://colab.research.google.com/assets/colab-badge.svg\" alt=\"Open In Colab\"/></a>"
      ]
    },
    {
      "cell_type": "code",
      "execution_count": 1,
      "metadata": {
        "colab": {
          "base_uri": "https://localhost:8080/"
        },
        "id": "bB4NKEOAKXpi",
        "outputId": "da052b34-c536-452b-931a-d21f524e2532"
      },
      "outputs": [
        {
          "output_type": "stream",
          "name": "stdout",
          "text": [
            "*****************\n",
            "*               *\n",
            "*               *\n",
            "*****************\n"
          ]
        }
      ],
      "source": [
        "print(\"*\" *17)\n",
        "print(\"*\", \" \" * 13,\"*\")\n",
        "print(\"*\", \" \" * 13,\"*\")\n",
        "print(\"*\" *17)\n"
      ]
    },
    {
      "cell_type": "code",
      "source": [
        "print(\"*\")\n",
        "print(\"*\" * 2)\n",
        "print(\"*\" * 3)\n",
        "print(\"*\" * 4)"
      ],
      "metadata": {
        "colab": {
          "base_uri": "https://localhost:8080/"
        },
        "id": "GP-KmBwUTeOJ",
        "outputId": "fefa17fc-47c6-47de-fc02-5cdc7cacd531"
      },
      "execution_count": 2,
      "outputs": [
        {
          "output_type": "stream",
          "name": "stdout",
          "text": [
            "*\n",
            "**\n",
            "***\n",
            "****\n"
          ]
        }
      ]
    },
    {
      "cell_type": "code",
      "source": [
        "result = (512-282)/(47*48+5)\n",
        "print(result)\n"
      ],
      "metadata": {
        "colab": {
          "base_uri": "https://localhost:8080/"
        },
        "id": "rhOfOGq-Tnl8",
        "outputId": "7cf28c65-e569-4269-faa2-343a69cb9f92"
      },
      "execution_count": 10,
      "outputs": [
        {
          "output_type": "stream",
          "name": "stdout",
          "text": [
            "0.1017249004865104\n"
          ]
        }
      ]
    },
    {
      "cell_type": "code",
      "source": [
        "x = int(input('Enter a number: '))\n",
        "print(x, 2*x, 3*x, 4*x, 5*x, sep ='---')"
      ],
      "metadata": {
        "colab": {
          "base_uri": "https://localhost:8080/"
        },
        "id": "vjJYmKBpUFK_",
        "outputId": "f08fd20e-634d-4755-b161-1c2ab3a75a9e"
      },
      "execution_count": 4,
      "outputs": [
        {
          "output_type": "stream",
          "name": "stdout",
          "text": [
            "Enter a number: 7\n",
            "7---14---21---28---35\n"
          ]
        }
      ]
    },
    {
      "cell_type": "code",
      "source": [
        "kg = eval(input('What is the weight in kilograms? '))\n",
        "lb = kg * 2.2\n",
        "print('The weight in pound is ', lb)"
      ],
      "metadata": {
        "colab": {
          "base_uri": "https://localhost:8080/"
        },
        "id": "VT87oQaUdeCo",
        "outputId": "aa160514-861d-498c-9207-4d7a358e9256"
      },
      "execution_count": 9,
      "outputs": [
        {
          "output_type": "stream",
          "name": "stdout",
          "text": [
            "What is the weight in kilograms? 2\n",
            "The weight in pound is  4.4\n"
          ]
        }
      ]
    },
    {
      "cell_type": "code",
      "source": [],
      "metadata": {
        "id": "kc2tOZIUdhox"
      },
      "execution_count": null,
      "outputs": []
    }
  ]
}