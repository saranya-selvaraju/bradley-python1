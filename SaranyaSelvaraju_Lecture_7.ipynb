{
  "nbformat": 4,
  "nbformat_minor": 0,
  "metadata": {
    "colab": {
      "provenance": [],
      "authorship_tag": "ABX9TyPJmGMwao6iUy2iYxOG95cJ",
      "include_colab_link": true
    },
    "kernelspec": {
      "name": "python3",
      "display_name": "Python 3"
    },
    "language_info": {
      "name": "python"
    }
  },
  "cells": [
    {
      "cell_type": "markdown",
      "metadata": {
        "id": "view-in-github",
        "colab_type": "text"
      },
      "source": [
        "<a href=\"https://colab.research.google.com/github/saranya-selvaraju/bradley-python1/blob/main/SaranyaSelvaraju_Lecture_7.ipynb\" target=\"_parent\"><img src=\"https://colab.research.google.com/assets/colab-badge.svg\" alt=\"Open In Colab\"/></a>"
      ]
    },
    {
      "cell_type": "code",
      "execution_count": 4,
      "metadata": {
        "colab": {
          "base_uri": "https://localhost:8080/"
        },
        "id": "A3kIUUnWBkXZ",
        "outputId": "121d2151-2c45-4d72-e4e4-727983a090d8"
      },
      "outputs": [
        {
          "output_type": "stream",
          "name": "stdout",
          "text": [
            "Enter the input: Hello\n",
            "There are 1 words in the input: Hello\n"
          ]
        }
      ],
      "source": [
        "# A simple way to estimate the number of words in a string is to count the number of spaces in the string.\n",
        "# Write a program that asks the user for a string and returns an estimate of how many words are in the\n",
        "# string.\n",
        "\n",
        "statement = input(\"Enter the input: \")\n",
        "\n",
        "word_count = 1\n",
        "\n",
        "for s in statement:\n",
        "  if s == ' ':\n",
        "    word_count += 1\n",
        "\n",
        "\n",
        "print(f\"There are {word_count} words in the input: {statement}\")"
      ]
    },
    {
      "cell_type": "code",
      "source": [
        "# People often forget closing parentheses when entering formulas. Write a program that asks the user to\n",
        "# enter a formula and prints out whether the formula has the same number of opening and closing\n",
        "# parentheses.\n",
        "\n",
        "statement = input(\"Enter the input: \")\n",
        "\n",
        "open_count = close_count = 0\n",
        "\n",
        "for s in statement:\n",
        "  if s == '(':\n",
        "    open_count += 1\n",
        "  elif s == ')':\n",
        "    close_count += 1\n",
        "\n",
        "if open_count == close_count:\n",
        "  print('Same number of opening and closing parantheses')\n",
        "else:\n",
        "  print('Unequal number of opening and closing parantheses')\n"
      ],
      "metadata": {
        "colab": {
          "base_uri": "https://localhost:8080/"
        },
        "id": "gU_4C9I1Dhuo",
        "outputId": "1a93efdc-ca01-473e-d69c-1dd86df96e12"
      },
      "execution_count": 7,
      "outputs": [
        {
          "output_type": "stream",
          "name": "stdout",
          "text": [
            "Enter the input: (1+(2*3))\n",
            "Same number of opening and closing parantheses\n"
          ]
        }
      ]
    }
  ]
}